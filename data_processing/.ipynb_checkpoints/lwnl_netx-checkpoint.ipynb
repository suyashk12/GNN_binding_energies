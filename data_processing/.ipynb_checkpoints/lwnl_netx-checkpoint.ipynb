{
 "cells": [
  {
   "cell_type": "code",
   "execution_count": 1,
   "id": "f9a17a9b",
   "metadata": {},
   "outputs": [],
   "source": [
    "import networkx as nx\n",
    "import json\n",
    "import numpy as np\n",
    "import pandas as pd\n",
    "import copy\n",
    "import matplotlib.pyplot as plt\n",
    "from networkx.readwrite import json_graph"
   ]
  },
  {
   "cell_type": "markdown",
   "id": "fc237225",
   "metadata": {},
   "source": [
    "Load networkx graphs"
   ]
  },
  {
   "cell_type": "code",
   "execution_count": 2,
   "id": "b00248b9",
   "metadata": {},
   "outputs": [],
   "source": [
    "def load_data_from_file(filename):\n",
    "    with open(filename, \"r\") as file_handle:\n",
    "        string_dict = json.load(file_handle)\n",
    "    return _load_data_from_string_dict(string_dict)\n",
    "\n",
    "def _load_data_from_string_dict(string_dict):\n",
    "    result_dict = {}\n",
    "    for key in string_dict:\n",
    "        data = copy.deepcopy(string_dict[key])\n",
    "        if 'edges' in data:\n",
    "            data[\"links\"] = data.pop(\"edges\")\n",
    "        graph = nx.node_link_graph(data)\n",
    "        result_dict[key] = graph\n",
    "    return result_dict"
   ]
  },
  {
   "cell_type": "code",
   "execution_count": 3,
   "id": "a556819c",
   "metadata": {},
   "outputs": [],
   "source": [
    "# dictionary of SMILES and values are graphs\n",
    "loaddir = \"../data/graphs/\"\n",
    "train_data = load_data_from_file(loaddir+\"cleaned_graph_data_10June.json\") "
   ]
  },
  {
   "cell_type": "markdown",
   "id": "4792ddc2",
   "metadata": {},
   "source": [
    "Pick out isolated atoms in training"
   ]
  },
  {
   "cell_type": "code",
   "execution_count": 5,
   "id": "34aee8c9",
   "metadata": {},
   "outputs": [],
   "source": [
    "atom_orb_train = []\n",
    "\n",
    "for mol in train_data:\n",
    "    if len(train_data[mol].nodes)==1:\n",
    "        atom = train_data[mol].nodes[0]['atom_type']\n",
    "        orbitals = train_data[mol].nodes[0]['orbitals']\n",
    "        for orb in orbitals:\n",
    "            atom_orb_train.append((atom, orb))"
   ]
  },
  {
   "cell_type": "markdown",
   "id": "99dc6ca3",
   "metadata": {},
   "source": [
    "Lookup table - exclude isolated atoms in training data"
   ]
  },
  {
   "cell_type": "code",
   "execution_count": 6,
   "id": "c78a6a68",
   "metadata": {},
   "outputs": [],
   "source": [
    "# LWNL dataframe\n",
    "lwnl_df = pd.read_csv('../data/lookups/lwnl.csv')\n",
    "\n",
    "elem_list_lwnl = list(lwnl_df['Element'])\n",
    "orb_list_lwnl = list(lwnl_df['Orbital'])\n",
    "be_list_lwnl = list(lwnl_df['Binding Energy'])"
   ]
  },
  {
   "cell_type": "code",
   "execution_count": 7,
   "id": "2dfc3b7c",
   "metadata": {},
   "outputs": [],
   "source": [
    "orb_dict_lwnl = {}\n",
    "be_dict_lwnl = {}\n",
    "\n",
    "for atom,orb,be in zip(elem_list_lwnl, orb_list_lwnl, be_list_lwnl):\n",
    "    if (atom,orb) not in atom_orb_train:\n",
    "        if atom not in orb_dict_lwnl:\n",
    "            orb_dict_lwnl[atom] = [orb]\n",
    "            be_dict_lwnl[atom] = [be]\n",
    "        else:\n",
    "            orb_dict_lwnl[atom].append(orb)\n",
    "            be_dict_lwnl[atom].append(be)"
   ]
  },
  {
   "cell_type": "code",
   "execution_count": 8,
   "id": "212ea5d8",
   "metadata": {},
   "outputs": [
    {
     "data": {
      "text/plain": [
       "89"
      ]
     },
     "execution_count": 8,
     "metadata": {},
     "output_type": "execute_result"
    }
   ],
   "source": [
    "len(orb_dict_lwnl)"
   ]
  },
  {
   "cell_type": "code",
   "execution_count": 9,
   "id": "84d2c4e1",
   "metadata": {},
   "outputs": [
    {
     "data": {
      "text/plain": [
       "940"
      ]
     },
     "execution_count": 9,
     "metadata": {},
     "output_type": "execute_result"
    }
   ],
   "source": [
    "S = 0\n",
    "\n",
    "for atom in orb_dict_lwnl:\n",
    "    S += len(orb_dict_lwnl[atom])\n",
    "    \n",
    "S"
   ]
  },
  {
   "cell_type": "markdown",
   "id": "3411908e",
   "metadata": {},
   "source": [
    "Create netx objects"
   ]
  },
  {
   "cell_type": "code",
   "execution_count": 10,
   "id": "9cac03f3",
   "metadata": {},
   "outputs": [],
   "source": [
    "graphs_lwnl = {}\n",
    "\n",
    "for atom in orb_dict_lwnl:\n",
    "    G = nx.Graph()\n",
    "    G.add_node(0,\n",
    "               atom_type=atom,\n",
    "               formal_charge=0,\n",
    "               orbitals=orb_dict_lwnl[atom],\n",
    "               binding_energies=be_dict_lwnl[atom],\n",
    "               e_neg_score=[0.0])\n",
    "    graphs_lwnl[atom] = G"
   ]
  },
  {
   "cell_type": "markdown",
   "id": "f3fb1c11",
   "metadata": {},
   "source": [
    "Save as JSON file"
   ]
  },
  {
   "cell_type": "code",
   "execution_count": 11,
   "id": "eeab12ba",
   "metadata": {},
   "outputs": [],
   "source": [
    "serializable_dict = {}\n",
    "\n",
    "for key, G in graphs_lwnl.items():\n",
    "    \n",
    "    for n in G.nodes:\n",
    "        G.nodes[n][\"id\"] = n\n",
    "    \n",
    "    data = json_graph.node_link_data(G)\n",
    "    serializable_dict[key] = data"
   ]
  },
  {
   "cell_type": "code",
   "execution_count": 12,
   "id": "25792991",
   "metadata": {},
   "outputs": [],
   "source": [
    "with open(\"../data/graphs/lwnl.json\", 'w') as f:\n",
    "    json.dump(serializable_dict, f, indent=2)"
   ]
  },
  {
   "cell_type": "code",
   "execution_count": null,
   "id": "c0e84f2e",
   "metadata": {},
   "outputs": [],
   "source": []
  }
 ],
 "metadata": {
  "kernelspec": {
   "display_name": "Python 3 (ipykernel)",
   "language": "python",
   "name": "python3"
  },
  "language_info": {
   "codemirror_mode": {
    "name": "ipython",
    "version": 3
   },
   "file_extension": ".py",
   "mimetype": "text/x-python",
   "name": "python",
   "nbconvert_exporter": "python",
   "pygments_lexer": "ipython3",
   "version": "3.9.13"
  }
 },
 "nbformat": 4,
 "nbformat_minor": 5
}
