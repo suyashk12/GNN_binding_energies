{
 "cells": [
  {
   "cell_type": "code",
   "execution_count": 1,
   "metadata": {
    "cellView": "form",
    "id": "mvIHO8B_RjeG"
   },
   "outputs": [
    {
     "name": "stdout",
     "output_type": "stream",
     "text": [
      "PyTorch version 2.2.2\n",
      "PyG version 2.0.3\n"
     ]
    }
   ],
   "source": [
    "import os\n",
    "import time\n",
    "import random\n",
    "import numpy as np\n",
    "\n",
    "import torch\n",
    "import torch.nn.functional as F\n",
    "from torch.nn import Linear, ReLU, BatchNorm1d, Module, Sequential\n",
    "\n",
    "import torch_geometric\n",
    "from torch_geometric.data import Data\n",
    "from torch_geometric.data import Batch\n",
    "from torch_geometric.datasets import QM9\n",
    "import torch_geometric.transforms as T\n",
    "from torch_geometric.utils import remove_self_loops, to_dense_adj, dense_to_sparse\n",
    "from torch_geometric.loader import DataLoader\n",
    "from torch_geometric.nn import MessagePassing, global_mean_pool\n",
    "from torch_geometric.datasets import QM9\n",
    "from torch_scatter import scatter\n",
    "\n",
    "import matplotlib.pyplot as plt\n",
    "import seaborn as sns\n",
    "import pandas as pd\n",
    "\n",
    "#from google.colab import files\n",
    "from IPython.display import HTML\n",
    "\n",
    "print(\"PyTorch version {}\".format(torch.__version__))\n",
    "print(\"PyG version {}\".format(torch_geometric.__version__))"
   ]
  },
  {
   "cell_type": "code",
   "execution_count": 2,
   "metadata": {
    "cellView": "form",
    "id": "voXIXbkVOeZm"
   },
   "outputs": [],
   "source": [
    "#@title [RUN] Set random seed for deterministic results\n",
    "\n",
    "def seed(seed=0):\n",
    "    random.seed(seed)\n",
    "    np.random.seed(seed)\n",
    "    torch.manual_seed(seed)\n",
    "    torch.cuda.manual_seed(seed)\n",
    "    torch.cuda.manual_seed_all(seed)\n",
    "    torch.backends.cudnn.deterministic = True\n",
    "    torch.backends.cudnn.benchmark = False\n",
    "\n",
    "seed(1)"
   ]
  },
  {
   "cell_type": "code",
   "execution_count": 3,
   "metadata": {
    "id": "gY7foToFoo8Q"
   },
   "outputs": [],
   "source": [
    "# For storing experimental results over the course of the practical\n",
    "RESULTS = {}"
   ]
  },
  {
   "cell_type": "markdown",
   "metadata": {},
   "source": [
    "Convert networkx inputs to PyG"
   ]
  },
  {
   "cell_type": "code",
   "execution_count": 4,
   "metadata": {},
   "outputs": [],
   "source": [
    "import json\n",
    "import networkx as nx\n",
    "import copy\n",
    "\n",
    "def load_data_from_file(filename):\n",
    "    \"\"\"\n",
    "    Load a dictionary of graphs from JSON file.\n",
    "    \"\"\"\n",
    "    with open(filename, \"r\") as file_handle:\n",
    "        string_dict = json.load(file_handle)\n",
    "    return _load_data_from_string_dict(string_dict)\n",
    "\n",
    "def load_data_from_string(json_string):\n",
    "    \"\"\"\n",
    "    Load a dictionary of graphs from JSON string.\n",
    "    \"\"\"\n",
    "    string_dict = json.loads(json_string)\n",
    "    return _load_data_from_string_dict(string_dict)\n",
    "\n",
    "def _load_data_from_string_dict(string_dict):\n",
    "    result_dict = {}\n",
    "    for key in string_dict:\n",
    "\n",
    "        data = copy.deepcopy(string_dict[key])\n",
    "\n",
    "        if 'edges' in data:\n",
    "            data[\"links\"] = data.pop(\"edges\")\n",
    "\n",
    "        graph = nx.node_link_graph(data)\n",
    "        result_dict[key] = graph\n",
    "    return result_dict\n",
    "\n",
    "def write_data_to_json_string(graph_dict, **kwargs):\n",
    "    \"\"\"\n",
    "    Write dictionary of graphs to JSON string.\n",
    "    \"\"\"\n",
    "    json_string = json.dumps(graph_dict, default=nx.node_link_data, **kwargs)\n",
    "    return json_string\n",
    "\n",
    "\n",
    "def write_data_to_json_file(graph_dict, filename, **kwargs):\n",
    "    \"\"\"\n",
    "    Write dictionary of graphs to JSON file.\n",
    "    \"\"\"\n",
    "    with open(filename, \"w\") as file_handle:\n",
    "        file_handle.write(write_data_to_json_string(graph_dict, **kwargs))"
   ]
  },
  {
   "cell_type": "code",
   "execution_count": 5,
   "metadata": {},
   "outputs": [],
   "source": [
    "# dictionary of SMILES and values are graphs\n",
    "train_data = load_data_from_file(\"../data/graphs/graph_data_duplicates.json\") "
   ]
  },
  {
   "cell_type": "code",
   "execution_count": 6,
   "metadata": {},
   "outputs": [],
   "source": [
    "atom_dict = {\n",
    " 'H':1, 'He':2, 'Li': 3, 'B': 5, 'C': 6, 'N': 7, 'O': 8, 'F': 9, 'Ne': 10,\n",
    " 'Na': 11, 'Mg': 12, 'Al': 13, 'Si': 14, 'P': 15, 'S': 16, 'Cl': 17, 'Ar': 18, 'K': 19, 'Ca': 20,\n",
    " 'Ti': 22, 'V': 23, 'Cr': 24, 'Mn': 25, 'Fe': 26, 'Co': 27, 'Ni': 28, 'Cu': 29, 'Zn': 30,\n",
    " 'Ga': 31, 'Ge': 32, 'As': 33, 'Se': 34, 'Br': 35, 'Kr': 36, 'Rb': 37, 'Sr': 38,\n",
    " 'Mo': 42, 'Rh': 45, 'Ag': 47, 'Cd': 48, 'In': 49, 'Sn': 50,\n",
    " 'Sb': 51, 'Te': 52, 'I': 53, 'Xe': 54, 'Cs': 55, 'Ba': 56,\n",
    " 'W': 74, 'Re': 75, 'Hg': 80, 'Tl': 81, 'Pb': 82, 'Bi': 83, 'U': 92\n",
    "}\n",
    "\n",
    "orb_dict = {\n",
    " '1s': [1, 0, 0],\n",
    " '2s': [2, 0, 0],\n",
    " '2p': [2, 1, 0],\n",
    " '2p3/2': [2, 1, 1.5],\n",
    "    \n",
    " '3s': [3, 0, 0],\n",
    " '3p': [3, 1, 0],\n",
    " '3p3/2': [3, 1, 1.5],\n",
    " '3d': [3, 2, 0],\n",
    " '3d5/2': [3, 2, 2.5],\n",
    "    \n",
    " '4s': [4, 0, 0],\n",
    " '4p3/2': [4, 1, 1.5],\n",
    " '4d': [4, 2, 0],\n",
    " '4d5/2': [4, 2, 2.5],\n",
    " '4f7/2': [4, 3, 3.5],\n",
    "    \n",
    " '5s': [5, 0, 0],\n",
    " '5p3/2': [5, 1, 1.5],\n",
    " '5d5/2': [5, 2, 2.5],\n",
    "}\n",
    "\n",
    "# Added bond categories following CoreIP team's data\n",
    "bond_dict = {'NONE':0, 'SINGLE':1, 'DOUBLE':2, 'TRIPLE':3, 'QUADRUPLE':4,\n",
    "             'DATIVE':5, 'AROMATIC':6}"
   ]
  },
  {
   "cell_type": "code",
   "execution_count": 7,
   "metadata": {},
   "outputs": [],
   "source": [
    "import pandas as pd\n",
    "\n",
    "# Lookup table for isolated binding energies\n",
    "iso_be_df = pd.read_csv('../data/lookups/isolated_binding_energies.csv')\n",
    "\n",
    "# SkipAtom embeddings (trained, 30 dimensions)\n",
    "embed_df = pd.read_csv('../data/embeddings/embedding_dim30_induced.csv')"
   ]
  },
  {
   "cell_type": "code",
   "execution_count": 8,
   "metadata": {},
   "outputs": [],
   "source": [
    "# Embedding IDs\n",
    "embedded_atoms = list(embed_df['Atoms'])\n",
    "\n",
    "# Embedding vectors\n",
    "embed_dict = {}\n",
    "\n",
    "for i in range(len(embed_df)):\n",
    "    vec = np.fromstring(embed_df.loc[i,'Embeddings'].replace('\\n','').strip('[]'), sep=' ')\n",
    "    embed_dict[embedded_atoms[i]] = vec\n",
    "        \n",
    "# Embedding doesn't have entry for H\n",
    "embed_dict['H'] = np.zeros(30)"
   ]
  },
  {
   "cell_type": "code",
   "execution_count": 9,
   "metadata": {
    "scrolled": true
   },
   "outputs": [],
   "source": [
    "dataset = []\n",
    "\n",
    "for i, mol in enumerate(train_data):\n",
    "    graph = train_data[mol]\n",
    "    \n",
    "    # Create node features (# atoms by target, atomic embedding, charge, one-hot encoding for orbital)\n",
    "    targets = list(nx.get_node_attributes(graph, \"pred\").values())\n",
    "    n_features = 1+1+30+1+3\n",
    "    x = np.zeros((len(targets), n_features))\n",
    "\n",
    "    # Indicate target atom\n",
    "    atom_index = targets.index(True)\n",
    "    x[atom_index, 0] = 1  \n",
    "    \n",
    "    # Indicate formal charges\n",
    "    charge = list(nx.get_node_attributes(graph, \"formal_charge\").values())\n",
    "    x[:, 1] = charge  \n",
    "    \n",
    "    # Indicate atom embeddings\n",
    "    atom = list(nx.get_node_attributes(graph, \"atom_type\").values())\n",
    "    embed_mat = np.array([embed_dict[a] for a in atom])\n",
    "    x[:,2:32] = embed_mat\n",
    "    \n",
    "    # One hot encode orbital for target atom\n",
    "    orb = list(nx.get_node_attributes(graph, \"orbitals\").values())\n",
    "    x[atom_index, 32:35] = orb_dict[orb[atom_index][0]]\n",
    "    \n",
    "    # Electronegativity scores\n",
    "    en_scores = list(nx.get_node_attributes(graph, \"e_neg_score\").values())\n",
    "    en_flat = [en[0] for en in en_scores]\n",
    "    x[:, 35] = en_flat      \n",
    "    \n",
    "    # Make PyG friendly\n",
    "    x = torch.tensor(x, dtype=torch.float)\n",
    "        \n",
    "    # Target value\n",
    "    energy = list(nx.get_node_attributes(graph, \"binding_energies\").values())\n",
    "    y = torch.tensor([energy[atom_index][0]], dtype=torch.float)\n",
    "    # Isolated binding energy from lookup table (for delta learning)\n",
    "    be = float(iso_be_df.loc[atom_dict[atom[atom_index]]-1, orb[atom_index][0]]) \n",
    "    \n",
    "    # Fix for edge_index with source and destination nodes\n",
    "    edge_index = torch.tensor(list(graph.edges), dtype=torch.long).t().contiguous()\n",
    "\n",
    "    # Encode edge indices\n",
    "    bond_types = list(nx.get_edge_attributes(graph, \"bond_type\").values())\n",
    "    \n",
    "    # Fix for edge_attr construction\n",
    "    edge_attr = np.zeros((7, len(bond_types)))\n",
    "    \n",
    "    for j,b in enumerate(bond_types):\n",
    "        edge_attr[bond_dict[b], j] = 1\n",
    "    \n",
    "    edge_attr = torch.tensor(edge_attr, dtype=torch.long).t().contiguous()\n",
    "\n",
    "    # Then proceed with creating the Data object\n",
    "    data = Data(x=x, edge_index=edge_index, edge_attr=edge_attr, y=y-be, \n",
    "                name=mol, orb=orb[atom_index][0], y0=be)\n",
    "    dataset.append(data)"
   ]
  },
  {
   "cell_type": "markdown",
   "metadata": {
    "id": "p98OyJsOZUKn"
   },
   "source": [
    "Data prep and splitting"
   ]
  },
  {
   "cell_type": "code",
   "execution_count": 10,
   "metadata": {
    "id": "RFaBnrDoS2K-"
   },
   "outputs": [
    {
     "name": "stdout",
     "output_type": "stream",
     "text": [
      "Total number of samples: 4250.\n",
      "Created dataset splits with 2520 training, 840 validation, 890 test samples.\n"
     ]
    }
   ],
   "source": [
    "from torch.utils.data import random_split\n",
    "\n",
    "print(f\"Total number of samples: {len(dataset)}.\")\n",
    "\n",
    "mols = np.array(list(train_data.keys()))\n",
    "mols = np.array([mol.split('_')[0] for mol in mols]) # there are no underscores in the molecule names\n",
    "\n",
    "# Get unique molecules and assign unique indices to each\n",
    "unique_molecules, unique_index = np.unique(mols, return_inverse=True)\n",
    "\n",
    "# Choose a random subset of test molecules\n",
    "unseen_subset = np.random.choice(np.arange(0, 859), size=200, replace=False) # 100 random molecules\n",
    "\n",
    "whitelist = ~np.in1d(unique_index, unseen_subset)\n",
    "train_val_dataset = [dataset[i] for i in range(len(dataset)) if whitelist[i]]\n",
    "test_dataset = [dataset[i] for i in range(len(dataset)) if not whitelist[i]] # Test dataset is the unseen subset\n",
    "\n",
    "# Split datasets (our 3K subset)\n",
    "# Split the dataset into train, validation, and test sets\n",
    "train_size = int(0.75*len(train_val_dataset))\n",
    "test_size = len(train_val_dataset)-train_size\n",
    "split_seed = torch.Generator().manual_seed(42)\n",
    "train_dataset, val_dataset = random_split(train_val_dataset, [train_size, test_size], generator=split_seed)\n",
    "\n",
    "print(f\"Created dataset splits with {len(train_dataset)} training, {len(val_dataset)} validation, {len(test_dataset)} test samples.\")\n",
    "\n",
    "# Create dataloaders with batch size = 32\n",
    "train_loader = DataLoader(train_dataset, batch_size=32, shuffle=True)\n",
    "val_loader = DataLoader(val_dataset, batch_size=32, shuffle=False)\n",
    "test_loader = DataLoader(test_dataset, batch_size=32, shuffle=False)"
   ]
  },
  {
   "cell_type": "code",
   "execution_count": 11,
   "metadata": {
    "id": "wO5GskvZnZ1j"
   },
   "outputs": [],
   "source": [
    "class MPNNLayer(MessagePassing):\n",
    "    def __init__(self, emb_dim=64, edge_dim=7, aggr='add'):\n",
    "        \"\"\"Message Passing Neural Network Layer\n",
    "\n",
    "        Args:\n",
    "            emb_dim: (int) - hidden dimension `d`\n",
    "            edge_dim: (int) - edge feature dimension `d_e`\n",
    "            aggr: (str) - aggregation function `\\oplus` (sum/mean/max)\n",
    "        \"\"\"\n",
    "        # Set the aggregation function\n",
    "        super().__init__(aggr=aggr)\n",
    "\n",
    "        self.emb_dim = emb_dim\n",
    "        self.edge_dim = edge_dim\n",
    "\n",
    "        # MLP `\\psi` for computing messages `m_ij`\n",
    "        # Implemented as a stack of Linear->BN->ReLU->Linear->BN->ReLU\n",
    "        # dims: (2d + d_e) -> d\n",
    "        self.mlp_msg = Sequential(\n",
    "            Linear(2*emb_dim + edge_dim, emb_dim), BatchNorm1d(emb_dim), ReLU(),\n",
    "            Linear(emb_dim, emb_dim), BatchNorm1d(emb_dim), ReLU()\n",
    "          )\n",
    "\n",
    "        # MLP `\\phi` for computing updated node features `h_i^{l+1}`\n",
    "        # Implemented as a stack of Linear->BN->ReLU->Linear->BN->ReLU\n",
    "        # dims: 2d -> d\n",
    "        self.mlp_upd = Sequential(\n",
    "            Linear(2*emb_dim, emb_dim), BatchNorm1d(emb_dim), ReLU(),\n",
    "            Linear(emb_dim, emb_dim), BatchNorm1d(emb_dim), ReLU()\n",
    "          )\n",
    "\n",
    "    def forward(self, h, edge_index, edge_attr):\n",
    "        \"\"\"\n",
    "        The forward pass updates node features `h` via one round of message passing.\n",
    "\n",
    "        As our MPNNLayer class inherits from the PyG MessagePassing parent class,\n",
    "        we simply need to call the `propagate()` function which starts the\n",
    "        message passing procedure: `message()` -> `aggregate()` -> `update()`.\n",
    "\n",
    "        The MessagePassing class handles most of the logic for the implementation.\n",
    "        To build custom GNNs, we only need to define our own `message()`,\n",
    "        `aggregate()`, and `update()` functions (defined subsequently).\n",
    "\n",
    "        Args:\n",
    "            h: (n, d) - initial node features\n",
    "            edge_index: (e, 2) - pairs of edges (i, j)\n",
    "            edge_attr: (e, d_e) - edge features\n",
    "\n",
    "        Returns:\n",
    "            out: (n, d) - updated node features\n",
    "        \"\"\"\n",
    "        out = self.propagate(edge_index, h=h, edge_attr=edge_attr)\n",
    "        return out\n",
    "\n",
    "    def message(self, h_i, h_j, edge_attr):\n",
    "        \"\"\"Step (1) Message\n",
    "\n",
    "        The `message()` function constructs messages from source nodes j\n",
    "        to destination nodes i for each edge (i, j) in `edge_index`.\n",
    "\n",
    "        The arguments can be a bit tricky to understand: `message()` can take\n",
    "        any arguments that were initially passed to `propagate`. Additionally,\n",
    "        we can differentiate destination nodes and source nodes by appending\n",
    "        `_i` or `_j` to the variable name, e.g. for the node features `h`, we\n",
    "        can use `h_i` and `h_j`.\n",
    "\n",
    "        This part is critical to understand as the `message()` function\n",
    "        constructs messages for each edge in the graph. The indexing of the\n",
    "        original node features `h` (or other node variables) is handled under\n",
    "        the hood by PyG.\n",
    "\n",
    "        Args:\n",
    "            h_i: (e, d) - destination node features\n",
    "            h_j: (e, d) - source node features\n",
    "            edge_attr: (e, d_e) - edge features\n",
    "\n",
    "        Returns:\n",
    "            msg: (e, d) - messages `m_ij` passed through MLP `\\psi`\n",
    "        \"\"\"\n",
    "        # SK - note how the dimensions of h_i and h_j were recast compared to forward()\n",
    "        msg = torch.cat([h_i, h_j, edge_attr], dim=-1)\n",
    "        return self.mlp_msg(msg)\n",
    "\n",
    "    def aggregate(self, inputs, index, ptr=None, dim_size=None):\n",
    "\n",
    "        \"\"\"The `aggregate` function aggregates the messages from neighboring nodes,\n",
    "        according to the chosen aggregation function ('sum' by default).\n",
    "\n",
    "        Args:\n",
    "            inputs: (e, d) - messages `m_ij` from destination to source nodes\n",
    "            index: (e, 1) - list of source nodes for each edge/message in `input`\n",
    "\n",
    "        Returns:\n",
    "            aggr_out: (n, d) - aggregated messages `m_i`\n",
    "        \"\"\"\n",
    "        aggr_out = scatter(inputs, index, dim=self.node_dim, dim_size=dim_size, reduce=self.aggr)\n",
    "\n",
    "        return aggr_out\n",
    "\n",
    "    def update(self, aggr_out, h):\n",
    "        \"\"\"\n",
    "        Step (3) Update\n",
    "\n",
    "        The `update()` function computes the final node features by combining the\n",
    "        aggregated messages with the initial node features.\n",
    "\n",
    "        `update()` takes the first argument `aggr_out`, the result of `aggregate()`,\n",
    "        as well as any optional arguments that were initially passed to\n",
    "        `propagate()`. E.g. in this case, we additionally pass `h`.\n",
    "\n",
    "        Args:\n",
    "            aggr_out: (n, d) - aggregated messages `m_i`\n",
    "            h: (n, d) - initial node features\n",
    "\n",
    "        Returns:\n",
    "            upd_out: (n, d) - updated node features passed through MLP `\\phi`\n",
    "        \"\"\"\n",
    "\n",
    "        upd_out = torch.cat([h, aggr_out], dim=-1)\n",
    "        return self.mlp_upd(upd_out)\n",
    "\n",
    "    def __repr__(self) -> str:\n",
    "        return (f'{self.__class__.__name__}(emb_dim={self.emb_dim}, aggr={self.aggr})')"
   ]
  },
  {
   "cell_type": "code",
   "execution_count": 12,
   "metadata": {
    "id": "Q0vqS1NAU_ZN"
   },
   "outputs": [],
   "source": [
    "class MPNNModel(Module):\n",
    "    def __init__(self, num_layers=4, emb_dim=64, in_dim=36, edge_dim=7, out_dim=1):\n",
    "        \"\"\"Message Passing Neural Network model for graph property prediction\n",
    "\n",
    "        Args:\n",
    "            num_layers: (int) - number of message passing layers `L`\n",
    "            emb_dim: (int) - hidden dimension `d`\n",
    "            in_dim: (int) - initial node feature dimension `d_n`\n",
    "            edge_dim: (int) - edge feature dimension `d_e`\n",
    "            out_dim: (int) - output dimension (fixed to 1)\n",
    "        \"\"\"\n",
    "        super().__init__()\n",
    "\n",
    "        # Linear projection for initial node features\n",
    "        # dim: d_n -> d\n",
    "        self.lin_in = Linear(in_dim, emb_dim)\n",
    "\n",
    "        # Stack of MPNN layers\n",
    "        self.convs = torch.nn.ModuleList()\n",
    "        for layer in range(num_layers):\n",
    "            self.convs.append(MPNNLayer(emb_dim, edge_dim, aggr='add'))\n",
    "\n",
    "        # Global pooling/readout function `R` (mean pooling)\n",
    "        # PyG handles the underlying logic via `global_mean_pool()`\n",
    "        self.pool = global_mean_pool\n",
    "\n",
    "        # Linear prediction head\n",
    "        # dim: d -> out_dim\n",
    "        self.lin_pred = Linear(emb_dim, out_dim)\n",
    "\n",
    "    def forward(self, data):\n",
    "        \"\"\"\n",
    "        Args:\n",
    "            data: (PyG.Data) - batch of PyG graphs\n",
    "\n",
    "        Returns:\n",
    "            out: (batch_size, out_dim) - prediction for each graph\n",
    "        \"\"\"\n",
    "        h = self.lin_in(data.x) # (n, d_n) -> (n, d)\n",
    "\n",
    "        for conv in self.convs:\n",
    "            h = h + conv(h, data.edge_index, data.edge_attr) # (n, d) -> (n, d)\n",
    "            # Note that we add a residual connection after each MPNN layer\n",
    "\n",
    "        h_graph = self.pool(h, data.batch) # (n, d) -> (batch_size, d)\n",
    "\n",
    "        out = self.lin_pred(h_graph) # (batch_size, d) -> (batch_size, 1)\n",
    "\n",
    "        return out.view(-1)"
   ]
  },
  {
   "cell_type": "markdown",
   "metadata": {
    "id": "W4xlvC8bZEv_"
   },
   "source": [
    "Unit tests"
   ]
  },
  {
   "cell_type": "code",
   "execution_count": 13,
   "metadata": {
    "id": "vXuzZIqpZVqS"
   },
   "outputs": [],
   "source": [
    "def permute_graph(data, perm):\n",
    "    \"\"\"Helper function for permuting PyG Data object attributes consistently.\n",
    "    \"\"\"\n",
    "    # Permute the node attribute ordering\n",
    "    data.x = data.x[perm]\n",
    "    data.batch = data.batch[perm]\n",
    "\n",
    "    # Permute the edge index\n",
    "    adj = to_dense_adj(data.edge_index)\n",
    "    adj = adj[:, perm, :]\n",
    "    adj = adj[:, :, perm]\n",
    "    data.edge_index = dense_to_sparse(adj)[0]\n",
    "\n",
    "    # Note:\n",
    "    # (1) While we originally defined the permutation matrix P as only having\n",
    "    #     entries 0 and 1, its implementation via `perm` uses indexing into\n",
    "    #     torch tensors, instead.\n",
    "    # (2) It is cumbersome to permute the edge_attr, so we set it to constant\n",
    "    #     dummy values. For any experiments beyond unit testing, all GNN models\n",
    "    #     use the original edge_attr.\n",
    "\n",
    "    return data\n",
    "\n",
    "def permutation_invariance_unit_test(module, dataloader):\n",
    "    \"\"\"Unit test for checking whether a module (GNN model) is\n",
    "    permutation invariant.\n",
    "    \"\"\"\n",
    "    it = iter(dataloader)\n",
    "    data = next(it)\n",
    "\n",
    "    # Set edge_attr to dummy values (for simplicity)\n",
    "    data.edge_attr = torch.zeros(data.edge_attr.shape)\n",
    "\n",
    "    # Forward pass on original example\n",
    "    out_1 = module(data)\n",
    "\n",
    "    # Create random permutation\n",
    "    perm = torch.randperm(data.x.shape[0])\n",
    "    data = permute_graph(data, perm)\n",
    "\n",
    "    # Forward pass on permuted example\n",
    "    out_2 = module(data)\n",
    "\n",
    "    # Check whether output varies after applying transformations\n",
    "    return torch.allclose(out_1, out_2, atol=1e-04)\n",
    "\n",
    "\n",
    "def permutation_equivariance_unit_test(module, dataloader):\n",
    "    \"\"\"Unit test for checking whether a module (GNN layer) is\n",
    "    permutation equivariant.\n",
    "    \"\"\"\n",
    "    it = iter(dataloader)\n",
    "    data = next(it)\n",
    "\n",
    "    # Set edge_attr to dummy values (for simplicity)\n",
    "    data.edge_attr = torch.zeros(data.edge_attr.shape)\n",
    "\n",
    "    # Forward pass on original example\n",
    "    out_1 = module(data.x, data.edge_index, data.edge_attr)\n",
    "\n",
    "    # Create random permutation\n",
    "    perm = torch.randperm(data.x.shape[0])\n",
    "    data = permute_graph(data, perm)\n",
    "\n",
    "    # Forward pass on permuted example\n",
    "    out_2 = module(data.x, data.edge_index, data.edge_attr)\n",
    "\n",
    "    # Check whether output varies after applying transformations\n",
    "    return torch.allclose(out_1[perm], out_2, atol=1e-04)"
   ]
  },
  {
   "cell_type": "code",
   "execution_count": 14,
   "metadata": {
    "id": "sNAxOxMQkDwf"
   },
   "outputs": [
    {
     "name": "stdout",
     "output_type": "stream",
     "text": [
      "Is MPNNModel permutation invariant? --> True!\n",
      "Is MPNNLayer permutation equivariant? --> True!\n"
     ]
    }
   ],
   "source": [
    "# Instantiate temporary model, layer, and dataloader for unit testing\n",
    "layer = MPNNLayer(emb_dim=36, edge_dim=7)\n",
    "model = MPNNModel(num_layers=4, emb_dim=64, in_dim=36, edge_dim=7, out_dim=1)\n",
    "dataloader = DataLoader(train_dataset, batch_size=1, shuffle=True)\n",
    "\n",
    "# Permutation invariance unit test for MPNN model\n",
    "print(f\"Is {type(model).__name__} permutation invariant? --> {permutation_invariance_unit_test(model, dataloader)}!\")\n",
    "\n",
    "# Permutation equivariance unit for MPNN layer\n",
    "print(f\"Is {type(layer).__name__} permutation equivariant? --> {permutation_equivariance_unit_test(layer, dataloader)}!\")"
   ]
  },
  {
   "cell_type": "markdown",
   "metadata": {
    "id": "g-cmASemh0wA"
   },
   "source": [
    "Training and evaluation"
   ]
  },
  {
   "cell_type": "code",
   "execution_count": 15,
   "metadata": {},
   "outputs": [],
   "source": [
    "#@title [RUN] Helper functions for managing experiments, training, and evaluating models.\n",
    "\n",
    "def train(model, train_loader, optimizer, device):\n",
    "    model.train()\n",
    "    loss_all = 0\n",
    "\n",
    "    for data in train_loader:\n",
    "        data = data.to(device)\n",
    "        optimizer.zero_grad()\n",
    "        y_pred = model(data)\n",
    "        \n",
    "        # Standard MSE loss\n",
    "        mse_loss = F.mse_loss(y_pred, data.y)\n",
    "\n",
    "        # L2 regularization (weight decay)\n",
    "        l2_lambda = 1e-3  # regularization strength\n",
    "        l2_reg = sum((param**2).sum() for param in model.parameters())     \n",
    "        \n",
    "        loss = F.mse_loss(y_pred, data.y) + l2_lambda * l2_reg\n",
    "        \n",
    "        loss.backward()\n",
    "        loss_all += loss.item() * data.num_graphs\n",
    "        optimizer.step()\n",
    "    return loss_all / len(train_loader.dataset)\n",
    "\n",
    "    \n",
    "def eval(model, loader, device):\n",
    "    model.eval()\n",
    "    error = 0\n",
    "\n",
    "    for data in loader:\n",
    "        data = data.to(device)\n",
    "        with torch.no_grad():\n",
    "            y_pred = model(data)\n",
    "            error += ((y_pred - data.y)**2).sum().item()\n",
    "    return error / len(loader.dataset)\n",
    "\n",
    "\n",
    "def run_experiment(model, model_name, train_loader, val_loader, test_loader, n_epochs=100):\n",
    "    \n",
    "    print(f\"Running experiment for {model_name}, training on {len(train_loader.dataset)} samples for {n_epochs} epochs.\")\n",
    "\n",
    "    device = torch.device('cuda' if torch.cuda.is_available() else 'cpu')\n",
    "\n",
    "    print(\"\\nModel architecture:\")\n",
    "    print(model)\n",
    "    total_param = 0\n",
    "    for param in model.parameters():\n",
    "        total_param += np.prod(list(param.data.size()))\n",
    "    print(f'Total parameters: {total_param}')\n",
    "    model = model.to(device)\n",
    "\n",
    "    optimizer = torch.optim.Adam(model.parameters(), lr=1e-4)\n",
    "\n",
    "    # LR scheduler which decays LR when validation metric doesn't improve\n",
    "    scheduler = torch.optim.lr_scheduler.ReduceLROnPlateau(\n",
    "        optimizer, mode='min', factor=0.9, patience=5, min_lr=1e-6)\n",
    "\n",
    "    early_stopping_patience = 10\n",
    "    epochs_since_improvement = 0\n",
    "    best_val_error = np.inf\n",
    "    best_test_error = None\n",
    "    best_epoch = -1\n",
    "    \n",
    "    print(\"\\nStart training:\")\n",
    "    perf_per_epoch = [] # Track Test/Val MAE vs. epoch (for plotting)\n",
    "    t = time.time()\n",
    "    for epoch in range(1, n_epochs+1):\n",
    "        # Call LR scheduler at start of each epoch\n",
    "        lr = scheduler.optimizer.param_groups[0]['lr']\n",
    "\n",
    "        # Train model for one epoch, return avg. training loss\n",
    "        loss = train(model, train_loader, optimizer, device)\n",
    "\n",
    "        val_error = eval(model, val_loader, device)\n",
    "        \n",
    "        if val_error<best_val_error:\n",
    "            best_val_error = val_error\n",
    "            best_test_error = eval(model, test_loader, device)\n",
    "            best_epoch = epoch\n",
    "            epochs_since_improvement = 0\n",
    "        else:\n",
    "            epochs_since_improvement += 1\n",
    "\n",
    "        if epoch % 10 == 0:\n",
    "            print(f'Epoch: {epoch:03d}, LR: {lr:5f}, Loss: {loss:.7f}, '\n",
    "                  f'Val MSE: {val_error:.7f}, Test MSE: {best_test_error:.7f}')\n",
    "\n",
    "        scheduler.step(val_error)\n",
    "        perf_per_epoch.append((best_test_error, val_error, epoch, model_name))\n",
    "\n",
    "        if epochs_since_improvement >= early_stopping_patience:\n",
    "            print(f\"\\nEarly stopping triggered at epoch {epoch}. \"\n",
    "                  f\"No improvement in validation MSE for {early_stopping_patience} consecutive epochs.\")\n",
    "            break\n",
    "\n",
    "    t = time.time() - t\n",
    "    train_time = t/60\n",
    "    print(f\"\\nDone! Training took {train_time:.2f} mins. Best validation MSE: {best_val_error:.7f}, corresponding test MSE: {best_test_error:.7f}.\")\n",
    "\n",
    "    return best_val_error, best_test_error, train_time, perf_per_epoch"
   ]
  },
  {
   "cell_type": "code",
   "execution_count": 16,
   "metadata": {
    "id": "JsGM5LWmiZQM",
    "scrolled": false
   },
   "outputs": [
    {
     "name": "stdout",
     "output_type": "stream",
     "text": [
      "Running experiment for MPNNModel, training on 2520 samples for 100 epochs.\n",
      "\n",
      "Model architecture:\n",
      "MPNNModel(\n",
      "  (lin_in): Linear(in_features=36, out_features=64, bias=True)\n",
      "  (convs): ModuleList(\n",
      "    (0-4): 5 x MPNNLayer(emb_dim=64, aggr=add)\n",
      "  )\n",
      "  (lin_pred): Linear(in_features=64, out_features=1, bias=True)\n",
      ")\n",
      "Total parameters: 131393\n",
      "\n",
      "Start training:\n",
      "Epoch: 010, LR: 0.000100, Loss: 10.7075969, Val MSE: 24.7851132, Test MSE: 12.3845341\n",
      "Epoch: 020, LR: 0.000100, Loss: 8.1779576, Val MSE: 24.9277723, Test MSE: 11.8513923\n",
      "Epoch: 030, LR: 0.000090, Loss: 7.2011964, Val MSE: 24.7606335, Test MSE: 11.5208977\n",
      "Epoch: 040, LR: 0.000081, Loss: 6.3788738, Val MSE: 24.3201856, Test MSE: 11.4784406\n",
      "\n",
      "Early stopping triggered at epoch 46. No improvement in validation MSE for 10 consecutive epochs.\n",
      "\n",
      "Done! Training took 1.65 mins. Best validation MSE: 23.8476040, corresponding test MSE: 11.4784406.\n"
     ]
    }
   ],
   "source": [
    "model = MPNNModel(num_layers=5, emb_dim=64, in_dim=36, edge_dim=7, out_dim=1)\n",
    "model_name = type(model).__name__\n",
    "\n",
    "\n",
    "best_val_error, test_error, train_time, perf_per_epoch = run_experiment(\n",
    "    model,\n",
    "    model_name,\n",
    "    train_loader,\n",
    "    val_loader,\n",
    "    test_loader,\n",
    "    n_epochs=100\n",
    ")\n",
    "RESULTS[model_name] = (best_val_error, test_error, train_time)\n",
    "\n",
    "DF_RESULTS = pd.DataFrame(perf_per_epoch, columns=[\"Test MSE\", \"Val MSE\", \"Epoch\", \"Model\"])"
   ]
  },
  {
   "cell_type": "code",
   "execution_count": 17,
   "metadata": {
    "id": "v7rtvD0zvmpF"
   },
   "outputs": [
    {
     "data": {
      "image/png": "[encoded data removed]",
      "text/plain": [
       "<Figure size 640x480 with 1 Axes>"
      ]
     },
     "metadata": {},
     "output_type": "display_data"
    }
   ],
   "source": [
    "p = sns.lineplot(x=\"Epoch\", y=\"Val MSE\", hue=\"Model\", data=DF_RESULTS)\n",
    "#p.set(ylim=(0, 2));"
   ]
  },
  {
   "cell_type": "code",
   "execution_count": 18,
   "metadata": {
    "id": "r1pjr7brqKCz"
   },
   "outputs": [
    {
     "data": {
      "image/png": "[encoded data removed]",
      "text/plain": [
       "<Figure size 640x480 with 1 Axes>"
      ]
     },
     "metadata": {},
     "output_type": "display_data"
    }
   ],
   "source": [
    "p = sns.lineplot(x=\"Epoch\", y=\"Test MSE\", hue=\"Model\", data=DF_RESULTS)\n",
    "#p.set(ylim=(0, 1));"
   ]
  },
  {
   "cell_type": "markdown",
   "metadata": {},
   "source": [
    "Obtain predictions for training set"
   ]
  },
  {
   "cell_type": "code",
   "execution_count": 97,
   "metadata": {
    "id": "xM3HXnhwDk_n"
   },
   "outputs": [],
   "source": [
    "model.eval()\n",
    "\n",
    "mol_name_list = []\n",
    "orb_list = []\n",
    "y_pred_list = []\n",
    "y0_list = []\n",
    "y_train_list = []\n",
    "\n",
    "\n",
    "for data in train_loader:\n",
    "    data = data.to('cpu')\n",
    "    with torch.no_grad():\n",
    "        y_pred = model(data)\n",
    "        \n",
    "        mol_name_list = mol_name_list + list(data.name)\n",
    "        orb_list = orb_list + list(data.orb)\n",
    "        y0_list += list(data.y0)\n",
    "        y_pred_list = y_pred_list + list(y_pred+data.y0)\n",
    "        y_train_list = y_train_list + list(data.y+data.y0)\n",
    "        \n",
    "y0_arr = np.array(y0_list)\n",
    "y_pred_arr = np.array(y_pred_list)\n",
    "y_train_arr = np.array(y_train_list)"
   ]
  },
  {
   "cell_type": "code",
   "execution_count": 98,
   "metadata": {},
   "outputs": [
    {
     "data": {
      "text/plain": [
       "0.7828511"
      ]
     },
     "execution_count": 98,
     "metadata": {},
     "output_type": "execute_result"
    }
   ],
   "source": [
    "np.mean(np.abs(y_pred_arr-y_train_arr))"
   ]
  },
  {
   "cell_type": "code",
   "execution_count": 99,
   "metadata": {},
   "outputs": [
    {
     "data": {
      "text/plain": [
       "6.2437468"
      ]
     },
     "execution_count": 99,
     "metadata": {},
     "output_type": "execute_result"
    }
   ],
   "source": [
    "np.mean(np.abs(y0_arr-y_train_arr))"
   ]
  },
  {
   "cell_type": "code",
   "execution_count": 100,
   "metadata": {},
   "outputs": [
    {
     "data": {
      "text/plain": [
       "<matplotlib.legend.Legend at 0x7f9552eebeb0>"
      ]
     },
     "execution_count": 100,
     "metadata": {},
     "output_type": "execute_result"
    },
    {
     "data": {
      "image/png": "[encoded data removed]",
      "text/plain": [
       "<Figure size 640x480 with 1 Axes>"
      ]
     },
     "metadata": {},
     "output_type": "display_data"
    }
   ],
   "source": [
    "plt.scatter(y_train_arr, y_pred_arr-y_train_arr, label='GNN')\n",
    "plt.scatter(y_train_arr, y0_arr-y_train_arr, label='Lookup')\n",
    "\n",
    "plt.xlabel(r'$y_\\mathrm{train}$ (binding energy)')\n",
    "plt.ylabel(r'$y_\\mathrm{pred}-y_\\mathrm{train}$')\n",
    "\n",
    "plt.legend()"
   ]
  },
  {
   "cell_type": "markdown",
   "metadata": {},
   "source": [
    "Obtain top ten worst performance training molecules"
   ]
  },
  {
   "cell_type": "code",
   "execution_count": 101,
   "metadata": {},
   "outputs": [],
   "source": [
    "mae_train = np.abs(y_pred_arr-y_train_arr)\n",
    "train_idx = np.argsort(mae_train)[-1:-11:-1]"
   ]
  },
  {
   "cell_type": "code",
   "execution_count": 102,
   "metadata": {},
   "outputs": [],
   "source": [
    "train_results = []\n",
    "\n",
    "for idx in train_idx:\n",
    "    \n",
    "    train_results.append([mol_name_list[idx].split('_')[0], mol_name_list[idx].split('_')[1], \n",
    "          orb_list[idx], \n",
    "          y_train_arr[idx],\n",
    "          y0_arr[idx],\n",
    "          y_pred_arr[idx], mae_train[idx]])"
   ]
  },
  {
   "cell_type": "code",
   "execution_count": 103,
   "metadata": {},
   "outputs": [],
   "source": [
    "train_df = pd.DataFrame(train_results, columns = ['mol', 'atom_idx', 'orb', 'y_true', 'y_lookup', 'y', 'mae'])"
   ]
  },
  {
   "cell_type": "code",
   "execution_count": 104,
   "metadata": {},
   "outputs": [
    {
     "data": {
      "text/html": [
       "<div>\n",
       "<style scoped>\n",
       "    .dataframe tbody tr th:only-of-type {\n",
       "        vertical-align: middle;\n",
       "    }\n",
       "\n",
       "    .dataframe tbody tr th {\n",
       "        vertical-align: top;\n",
       "    }\n",
       "\n",
       "    .dataframe thead th {\n",
       "        text-align: right;\n",
       "    }\n",
       "</style>\n",
       "<table border=\"1\" class=\"dataframe\">\n",
       "  <thead>\n",
       "    <tr style=\"text-align: right;\">\n",
       "      <th></th>\n",
       "      <th>mol</th>\n",
       "      <th>atom_idx</th>\n",
       "      <th>orb</th>\n",
       "      <th>y_true</th>\n",
       "      <th>y_lookup</th>\n",
       "      <th>y</th>\n",
       "      <th>mae</th>\n",
       "    </tr>\n",
       "  </thead>\n",
       "  <tbody>\n",
       "    <tr>\n",
       "      <th>0</th>\n",
       "      <td>C1=CC(=O)N(C=C1)CCO</td>\n",
       "      <td>9</td>\n",
       "      <td>1s</td>\n",
       "      <td>471.950012</td>\n",
       "      <td>543.099976</td>\n",
       "      <td>523.477661</td>\n",
       "      <td>51.527649</td>\n",
       "    </tr>\n",
       "    <tr>\n",
       "      <th>1</th>\n",
       "      <td>C1=CC(=O)N(C=C1)CCO</td>\n",
       "      <td>3</td>\n",
       "      <td>1s</td>\n",
       "      <td>471.950012</td>\n",
       "      <td>543.099976</td>\n",
       "      <td>516.127014</td>\n",
       "      <td>44.177002</td>\n",
       "    </tr>\n",
       "    <tr>\n",
       "      <th>2</th>\n",
       "      <td>P(=S)(Cl)(Cl)Cl</td>\n",
       "      <td>1</td>\n",
       "      <td>2p3/2</td>\n",
       "      <td>233.199997</td>\n",
       "      <td>162.500000</td>\n",
       "      <td>256.398010</td>\n",
       "      <td>23.198013</td>\n",
       "    </tr>\n",
       "    <tr>\n",
       "      <th>3</th>\n",
       "      <td>[Cd]</td>\n",
       "      <td>0</td>\n",
       "      <td>3d5/2</td>\n",
       "      <td>412.125000</td>\n",
       "      <td>405.200012</td>\n",
       "      <td>404.115143</td>\n",
       "      <td>8.009857</td>\n",
       "    </tr>\n",
       "    <tr>\n",
       "      <th>4</th>\n",
       "      <td>[O]1C(C(F)(F)F)=CC(C(F)(F)F)=[O][Cr+3]123([O-]...</td>\n",
       "      <td>37</td>\n",
       "      <td>1s</td>\n",
       "      <td>684.489990</td>\n",
       "      <td>696.700012</td>\n",
       "      <td>691.707458</td>\n",
       "      <td>7.217468</td>\n",
       "    </tr>\n",
       "    <tr>\n",
       "      <th>5</th>\n",
       "      <td>C-&gt;1:C-&gt;2:C-&gt;[Mn]12(C#[O+])(C#[O+])(C#[O+])(C#...</td>\n",
       "      <td>8</td>\n",
       "      <td>1s</td>\n",
       "      <td>283.470001</td>\n",
       "      <td>284.200012</td>\n",
       "      <td>289.792511</td>\n",
       "      <td>6.322510</td>\n",
       "    </tr>\n",
       "    <tr>\n",
       "      <th>6</th>\n",
       "      <td>CNC(=O)N(C)C</td>\n",
       "      <td>3</td>\n",
       "      <td>1s</td>\n",
       "      <td>536.700012</td>\n",
       "      <td>543.099976</td>\n",
       "      <td>530.501160</td>\n",
       "      <td>6.198853</td>\n",
       "    </tr>\n",
       "    <tr>\n",
       "      <th>7</th>\n",
       "      <td>[O]1C(C(F)(F)F)=CC(C(F)(F)F)=[O][Cr+3]123([O-]...</td>\n",
       "      <td>4</td>\n",
       "      <td>1s</td>\n",
       "      <td>684.489990</td>\n",
       "      <td>696.700012</td>\n",
       "      <td>690.530396</td>\n",
       "      <td>6.040405</td>\n",
       "    </tr>\n",
       "    <tr>\n",
       "      <th>8</th>\n",
       "      <td>C-&gt;1:C-&gt;2:C-&gt;[Mn]12(C#[O+])(C#[O+])(C#[O+])(C#...</td>\n",
       "      <td>4</td>\n",
       "      <td>1s</td>\n",
       "      <td>283.470001</td>\n",
       "      <td>284.200012</td>\n",
       "      <td>289.403046</td>\n",
       "      <td>5.933044</td>\n",
       "    </tr>\n",
       "    <tr>\n",
       "      <th>9</th>\n",
       "      <td>C-&gt;1:C-&gt;2:C-&gt;[Mn]12(C#[O+])(C#[O+])(C#[O+])(C#...</td>\n",
       "      <td>10</td>\n",
       "      <td>1s</td>\n",
       "      <td>283.470001</td>\n",
       "      <td>284.200012</td>\n",
       "      <td>289.179718</td>\n",
       "      <td>5.709717</td>\n",
       "    </tr>\n",
       "  </tbody>\n",
       "</table>\n",
       "</div>"
      ],
      "text/plain": [
       "                                                 mol atom_idx    orb  \\\n",
       "0                                C1=CC(=O)N(C=C1)CCO        9     1s   \n",
       "1                                C1=CC(=O)N(C=C1)CCO        3     1s   \n",
       "2                                    P(=S)(Cl)(Cl)Cl        1  2p3/2   \n",
       "3                                               [Cd]        0  3d5/2   \n",
       "4  [O]1C(C(F)(F)F)=CC(C(F)(F)F)=[O][Cr+3]123([O-]...       37     1s   \n",
       "5  C->1:C->2:C->[Mn]12(C#[O+])(C#[O+])(C#[O+])(C#...        8     1s   \n",
       "6                                       CNC(=O)N(C)C        3     1s   \n",
       "7  [O]1C(C(F)(F)F)=CC(C(F)(F)F)=[O][Cr+3]123([O-]...        4     1s   \n",
       "8  C->1:C->2:C->[Mn]12(C#[O+])(C#[O+])(C#[O+])(C#...        4     1s   \n",
       "9  C->1:C->2:C->[Mn]12(C#[O+])(C#[O+])(C#[O+])(C#...       10     1s   \n",
       "\n",
       "       y_true    y_lookup           y        mae  \n",
       "0  471.950012  543.099976  523.477661  51.527649  \n",
       "1  471.950012  543.099976  516.127014  44.177002  \n",
       "2  233.199997  162.500000  256.398010  23.198013  \n",
       "3  412.125000  405.200012  404.115143   8.009857  \n",
       "4  684.489990  696.700012  691.707458   7.217468  \n",
       "5  283.470001  284.200012  289.792511   6.322510  \n",
       "6  536.700012  543.099976  530.501160   6.198853  \n",
       "7  684.489990  696.700012  690.530396   6.040405  \n",
       "8  283.470001  284.200012  289.403046   5.933044  \n",
       "9  283.470001  284.200012  289.179718   5.709717  "
      ]
     },
     "execution_count": 104,
     "metadata": {},
     "output_type": "execute_result"
    }
   ],
   "source": [
    "train_df"
   ]
  },
  {
   "cell_type": "markdown",
   "metadata": {},
   "source": [
    "Obtain predictions for validation set"
   ]
  },
  {
   "cell_type": "code",
   "execution_count": 105,
   "metadata": {
    "id": "xM3HXnhwDk_n"
   },
   "outputs": [],
   "source": [
    "model.eval()\n",
    "\n",
    "mol_name_list = []\n",
    "orb_list = []\n",
    "y_pred_list = []\n",
    "y0_list = []\n",
    "y_val_list = []\n",
    "\n",
    "\n",
    "for data in val_loader:\n",
    "    data = data.to('cpu')\n",
    "    with torch.no_grad():\n",
    "        y_pred = model(data)\n",
    "        \n",
    "        mol_name_list = mol_name_list + list(data.name)\n",
    "        orb_list = orb_list + list(data.orb)\n",
    "        y0_list += list(data.y0)\n",
    "        y_pred_list = y_pred_list + list(y_pred+data.y0)\n",
    "        y_val_list = y_val_list + list(data.y+data.y0)\n",
    "        \n",
    "y0_arr = np.array(y0_list)\n",
    "y_pred_arr = np.array(y_pred_list)\n",
    "y_val_arr = np.array(y_val_list)"
   ]
  },
  {
   "cell_type": "code",
   "execution_count": 106,
   "metadata": {},
   "outputs": [
    {
     "data": {
      "text/plain": [
       "1.0947912"
      ]
     },
     "execution_count": 106,
     "metadata": {},
     "output_type": "execute_result"
    }
   ],
   "source": [
    "np.mean(np.abs(y_pred_arr-y_val_arr))"
   ]
  },
  {
   "cell_type": "code",
   "execution_count": 107,
   "metadata": {},
   "outputs": [
    {
     "data": {
      "text/plain": [
       "6.2004313"
      ]
     },
     "execution_count": 107,
     "metadata": {},
     "output_type": "execute_result"
    }
   ],
   "source": [
    "np.mean(np.abs(y0_arr-y_val_arr))"
   ]
  },
  {
   "cell_type": "code",
   "execution_count": 108,
   "metadata": {},
   "outputs": [
    {
     "data": {
      "text/plain": [
       "<matplotlib.legend.Legend at 0x7f9561d4b220>"
      ]
     },
     "execution_count": 108,
     "metadata": {},
     "output_type": "execute_result"
    },
    {
     "data": {
      "image/png": "[encoded data removed]",
      "text/plain": [
       "<Figure size 640x480 with 1 Axes>"
      ]
     },
     "metadata": {},
     "output_type": "display_data"
    }
   ],
   "source": [
    "plt.scatter(y_val_arr, y_pred_arr-y_val_arr, label='GNN')\n",
    "plt.scatter(y_val_arr, y0_arr-y_val_arr, label='Lookup')\n",
    "\n",
    "plt.xlabel(r'$y_\\mathrm{val}$ (binding energy)')\n",
    "plt.ylabel(r'$y_\\mathrm{pred}-y_\\mathrm{val}$')\n",
    "\n",
    "plt.legend()"
   ]
  },
  {
   "cell_type": "markdown",
   "metadata": {},
   "source": [
    "Obtain top ten worst performance training molecules"
   ]
  },
  {
   "cell_type": "code",
   "execution_count": 109,
   "metadata": {},
   "outputs": [],
   "source": [
    "mae_val = np.abs(y_pred_arr-y_val_arr)\n",
    "val_idx = np.argsort(mae_val)[-1:-11:-1]"
   ]
  },
  {
   "cell_type": "code",
   "execution_count": 110,
   "metadata": {},
   "outputs": [],
   "source": [
    "val_results = []\n",
    "\n",
    "for idx in val_idx:\n",
    "    \n",
    "    val_results.append([mol_name_list[idx].split('_')[0], mol_name_list[idx].split('_')[1], \n",
    "          orb_list[idx], \n",
    "          y_val_arr[idx],\n",
    "          y0_arr[idx],\n",
    "          y_pred_arr[idx], mae_val[idx]])"
   ]
  },
  {
   "cell_type": "code",
   "execution_count": 111,
   "metadata": {},
   "outputs": [],
   "source": [
    "val_df = pd.DataFrame(val_results, columns = ['mol', 'atom_idx', 'orb', 'y_true', 'y_lookup', 'y', 'mae'])"
   ]
  },
  {
   "cell_type": "code",
   "execution_count": 112,
   "metadata": {},
   "outputs": [
    {
     "data": {
      "text/html": [
       "<div>\n",
       "<style scoped>\n",
       "    .dataframe tbody tr th:only-of-type {\n",
       "        vertical-align: middle;\n",
       "    }\n",
       "\n",
       "    .dataframe tbody tr th {\n",
       "        vertical-align: top;\n",
       "    }\n",
       "\n",
       "    .dataframe thead th {\n",
       "        text-align: right;\n",
       "    }\n",
       "</style>\n",
       "<table border=\"1\" class=\"dataframe\">\n",
       "  <thead>\n",
       "    <tr style=\"text-align: right;\">\n",
       "      <th></th>\n",
       "      <th>mol</th>\n",
       "      <th>atom_idx</th>\n",
       "      <th>orb</th>\n",
       "      <th>y_true</th>\n",
       "      <th>y_lookup</th>\n",
       "      <th>y</th>\n",
       "      <th>mae</th>\n",
       "    </tr>\n",
       "  </thead>\n",
       "  <tbody>\n",
       "    <tr>\n",
       "      <th>0</th>\n",
       "      <td>C1=CC(=O)N(C=C1)CCO</td>\n",
       "      <td>4</td>\n",
       "      <td>1s</td>\n",
       "      <td>539.580017</td>\n",
       "      <td>409.899994</td>\n",
       "      <td>405.344421</td>\n",
       "      <td>134.235596</td>\n",
       "    </tr>\n",
       "    <tr>\n",
       "      <th>1</th>\n",
       "      <td>[Cu]1234.CC(:O-&gt;1):C:C(:O-&gt;2)C.CC(:O-&gt;3):C:C(:...</td>\n",
       "      <td>0</td>\n",
       "      <td>3p</td>\n",
       "      <td>64.900002</td>\n",
       "      <td>77.300003</td>\n",
       "      <td>83.716164</td>\n",
       "      <td>18.816162</td>\n",
       "    </tr>\n",
       "    <tr>\n",
       "      <th>2</th>\n",
       "      <td>C-&gt;1:C-&gt;2:C-&gt;[Mn]12(C#[O+])(C#[O+])(C#[O+])C#[O+]</td>\n",
       "      <td>3</td>\n",
       "      <td>2p3/2</td>\n",
       "      <td>656.799988</td>\n",
       "      <td>638.700012</td>\n",
       "      <td>646.594788</td>\n",
       "      <td>10.205200</td>\n",
       "    </tr>\n",
       "    <tr>\n",
       "      <th>3</th>\n",
       "      <td>FP(=S)(F)F</td>\n",
       "      <td>2</td>\n",
       "      <td>2p3/2</td>\n",
       "      <td>170.300003</td>\n",
       "      <td>162.500000</td>\n",
       "      <td>180.111389</td>\n",
       "      <td>9.811386</td>\n",
       "    </tr>\n",
       "    <tr>\n",
       "      <th>4</th>\n",
       "      <td>C1=CN=CC=C1N</td>\n",
       "      <td>6</td>\n",
       "      <td>1s</td>\n",
       "      <td>405.049988</td>\n",
       "      <td>409.899994</td>\n",
       "      <td>395.882812</td>\n",
       "      <td>9.167175</td>\n",
       "    </tr>\n",
       "    <tr>\n",
       "      <th>5</th>\n",
       "      <td>C1=CC=NC(=C1)N</td>\n",
       "      <td>6</td>\n",
       "      <td>1s</td>\n",
       "      <td>405.054993</td>\n",
       "      <td>409.899994</td>\n",
       "      <td>395.965179</td>\n",
       "      <td>9.089813</td>\n",
       "    </tr>\n",
       "    <tr>\n",
       "      <th>6</th>\n",
       "      <td>[O]1C(C(F)(F)F)=CC(C(F)(F)F)=[O][Cr+3]123([O-]...</td>\n",
       "      <td>38</td>\n",
       "      <td>1s</td>\n",
       "      <td>684.489990</td>\n",
       "      <td>696.700012</td>\n",
       "      <td>692.392578</td>\n",
       "      <td>7.902588</td>\n",
       "    </tr>\n",
       "    <tr>\n",
       "      <th>7</th>\n",
       "      <td>[O]1C(C(F)(F)F)=CC(C(F)(F)F)=[O][Cr+3]123([O-]...</td>\n",
       "      <td>36</td>\n",
       "      <td>1s</td>\n",
       "      <td>684.489990</td>\n",
       "      <td>696.700012</td>\n",
       "      <td>691.051514</td>\n",
       "      <td>6.561523</td>\n",
       "    </tr>\n",
       "    <tr>\n",
       "      <th>8</th>\n",
       "      <td>C-&gt;1:C-&gt;2:C-&gt;[Mn]12(C#[O+])(C#[O+])(C#[O+])(C#...</td>\n",
       "      <td>6</td>\n",
       "      <td>1s</td>\n",
       "      <td>283.470001</td>\n",
       "      <td>284.200012</td>\n",
       "      <td>289.917175</td>\n",
       "      <td>6.447174</td>\n",
       "    </tr>\n",
       "    <tr>\n",
       "      <th>9</th>\n",
       "      <td>[O]1C(C(F)(F)F)=CC(C(F)(F)F)=[O][Cr+3]123([O-]...</td>\n",
       "      <td>3</td>\n",
       "      <td>1s</td>\n",
       "      <td>684.489990</td>\n",
       "      <td>696.700012</td>\n",
       "      <td>690.456421</td>\n",
       "      <td>5.966431</td>\n",
       "    </tr>\n",
       "  </tbody>\n",
       "</table>\n",
       "</div>"
      ],
      "text/plain": [
       "                                                 mol atom_idx    orb  \\\n",
       "0                                C1=CC(=O)N(C=C1)CCO        4     1s   \n",
       "1  [Cu]1234.CC(:O->1):C:C(:O->2)C.CC(:O->3):C:C(:...        0     3p   \n",
       "2  C->1:C->2:C->[Mn]12(C#[O+])(C#[O+])(C#[O+])C#[O+]        3  2p3/2   \n",
       "3                                         FP(=S)(F)F        2  2p3/2   \n",
       "4                                       C1=CN=CC=C1N        6     1s   \n",
       "5                                     C1=CC=NC(=C1)N        6     1s   \n",
       "6  [O]1C(C(F)(F)F)=CC(C(F)(F)F)=[O][Cr+3]123([O-]...       38     1s   \n",
       "7  [O]1C(C(F)(F)F)=CC(C(F)(F)F)=[O][Cr+3]123([O-]...       36     1s   \n",
       "8  C->1:C->2:C->[Mn]12(C#[O+])(C#[O+])(C#[O+])(C#...        6     1s   \n",
       "9  [O]1C(C(F)(F)F)=CC(C(F)(F)F)=[O][Cr+3]123([O-]...        3     1s   \n",
       "\n",
       "       y_true    y_lookup           y         mae  \n",
       "0  539.580017  409.899994  405.344421  134.235596  \n",
       "1   64.900002   77.300003   83.716164   18.816162  \n",
       "2  656.799988  638.700012  646.594788   10.205200  \n",
       "3  170.300003  162.500000  180.111389    9.811386  \n",
       "4  405.049988  409.899994  395.882812    9.167175  \n",
       "5  405.054993  409.899994  395.965179    9.089813  \n",
       "6  684.489990  696.700012  692.392578    7.902588  \n",
       "7  684.489990  696.700012  691.051514    6.561523  \n",
       "8  283.470001  284.200012  289.917175    6.447174  \n",
       "9  684.489990  696.700012  690.456421    5.966431  "
      ]
     },
     "execution_count": 112,
     "metadata": {},
     "output_type": "execute_result"
    }
   ],
   "source": [
    "val_df"
   ]
  },
  {
   "cell_type": "markdown",
   "metadata": {},
   "source": [
    "Obtain predictions for test set"
   ]
  },
  {
   "cell_type": "code",
   "execution_count": 113,
   "metadata": {
    "id": "xM3HXnhwDk_n"
   },
   "outputs": [],
   "source": [
    "model.eval()\n",
    "\n",
    "mol_name_list = []\n",
    "orb_list = []\n",
    "y_pred_list = []\n",
    "y0_list = []\n",
    "y_test_list = []\n",
    "\n",
    "\n",
    "for data in test_loader:\n",
    "    data = data.to('cpu')\n",
    "    with torch.no_grad():\n",
    "        y_pred = model(data)\n",
    "        \n",
    "        mol_name_list = mol_name_list + list(data.name)\n",
    "        orb_list = orb_list + list(data.orb)\n",
    "        y0_list += list(data.y0)\n",
    "        y_pred_list = y_pred_list + list(y_pred+data.y0)\n",
    "        y_test_list = y_test_list + list(data.y+data.y0)\n",
    "        \n",
    "y0_arr = np.array(y0_list)\n",
    "y_pred_arr = np.array(y_pred_list)\n",
    "y_test_arr = np.array(y_test_list)"
   ]
  },
  {
   "cell_type": "code",
   "execution_count": 114,
   "metadata": {},
   "outputs": [
    {
     "data": {
      "text/plain": [
       "1.2418205"
      ]
     },
     "execution_count": 114,
     "metadata": {},
     "output_type": "execute_result"
    }
   ],
   "source": [
    "np.mean(np.abs(y_pred_arr-y_test_arr))"
   ]
  },
  {
   "cell_type": "code",
   "execution_count": 115,
   "metadata": {},
   "outputs": [
    {
     "data": {
      "text/plain": [
       "6.231016"
      ]
     },
     "execution_count": 115,
     "metadata": {},
     "output_type": "execute_result"
    }
   ],
   "source": [
    "np.mean(np.abs(y0_arr-y_test_arr))"
   ]
  },
  {
   "cell_type": "code",
   "execution_count": 117,
   "metadata": {},
   "outputs": [
    {
     "data": {
      "text/plain": [
       "<matplotlib.legend.Legend at 0x7f95931c7eb0>"
      ]
     },
     "execution_count": 117,
     "metadata": {},
     "output_type": "execute_result"
    },
    {
     "data": {
      "image/png": "[encoded data removed]",
      "text/plain": [
       "<Figure size 640x480 with 1 Axes>"
      ]
     },
     "metadata": {},
     "output_type": "display_data"
    }
   ],
   "source": [
    "plt.scatter(y_test_arr, y_pred_arr-y_test_arr, label='GNN')\n",
    "plt.scatter(y_test_arr, y0_arr-y_test_arr, label='Lookup')\n",
    "\n",
    "plt.xlabel(r'$y_\\mathrm{test}$ (binding energy)')\n",
    "plt.ylabel(r'$y_\\mathrm{pred}-y_\\mathrm{test}$')\n",
    "\n",
    "plt.legend()"
   ]
  },
  {
   "cell_type": "markdown",
   "metadata": {},
   "source": [
    "Obtain top ten worst performance training molecules"
   ]
  },
  {
   "cell_type": "code",
   "execution_count": 118,
   "metadata": {},
   "outputs": [],
   "source": [
    "mae_test = np.abs(y_pred_arr-y_test_arr)\n",
    "test_idx = np.argsort(mae_test)[-1:-11:-1]"
   ]
  },
  {
   "cell_type": "code",
   "execution_count": 119,
   "metadata": {},
   "outputs": [],
   "source": [
    "test_results = []\n",
    "\n",
    "for idx in test_idx:\n",
    "    \n",
    "    test_results.append([mol_name_list[idx].split('_')[0], mol_name_list[idx].split('_')[1], \n",
    "          orb_list[idx], \n",
    "          y_test_arr[idx],\n",
    "          y0_arr[idx],\n",
    "          y_pred_arr[idx], mae_test[idx]])"
   ]
  },
  {
   "cell_type": "code",
   "execution_count": 120,
   "metadata": {},
   "outputs": [],
   "source": [
    "test_df = pd.DataFrame(test_results, columns = ['mol', 'atom_idx', 'orb', 'y_true', 'y_lookup', 'y', 'mae'])"
   ]
  },
  {
   "cell_type": "code",
   "execution_count": 121,
   "metadata": {},
   "outputs": [
    {
     "data": {
      "text/html": [
       "<div>\n",
       "<style scoped>\n",
       "    .dataframe tbody tr th:only-of-type {\n",
       "        vertical-align: middle;\n",
       "    }\n",
       "\n",
       "    .dataframe tbody tr th {\n",
       "        vertical-align: top;\n",
       "    }\n",
       "\n",
       "    .dataframe thead th {\n",
       "        text-align: right;\n",
       "    }\n",
       "</style>\n",
       "<table border=\"1\" class=\"dataframe\">\n",
       "  <thead>\n",
       "    <tr style=\"text-align: right;\">\n",
       "      <th></th>\n",
       "      <th>mol</th>\n",
       "      <th>atom_idx</th>\n",
       "      <th>orb</th>\n",
       "      <th>y_true</th>\n",
       "      <th>y_lookup</th>\n",
       "      <th>y</th>\n",
       "      <th>mae</th>\n",
       "    </tr>\n",
       "  </thead>\n",
       "  <tbody>\n",
       "    <tr>\n",
       "      <th>0</th>\n",
       "      <td>C[Mo]2345(C#[O+])(C#[O+])(C#[O+])&lt;-C1=C-&gt;2C-&gt;3...</td>\n",
       "      <td>1</td>\n",
       "      <td>3d5/2</td>\n",
       "      <td>290.799988</td>\n",
       "      <td>227.899994</td>\n",
       "      <td>233.782776</td>\n",
       "      <td>57.017212</td>\n",
       "    </tr>\n",
       "    <tr>\n",
       "      <th>1</th>\n",
       "      <td>CC1(CC(OP(O1)OC)(C)C)C</td>\n",
       "      <td>4</td>\n",
       "      <td>1s</td>\n",
       "      <td>580.000000</td>\n",
       "      <td>543.099976</td>\n",
       "      <td>535.913635</td>\n",
       "      <td>44.086365</td>\n",
       "    </tr>\n",
       "    <tr>\n",
       "      <th>2</th>\n",
       "      <td>CC1(CC(OP(O1)OC)(C)C)C</td>\n",
       "      <td>6</td>\n",
       "      <td>1s</td>\n",
       "      <td>580.000000</td>\n",
       "      <td>543.099976</td>\n",
       "      <td>538.724304</td>\n",
       "      <td>41.275696</td>\n",
       "    </tr>\n",
       "    <tr>\n",
       "      <th>3</th>\n",
       "      <td>CC1(CC(OP(O1)OC)(C)C)C</td>\n",
       "      <td>7</td>\n",
       "      <td>1s</td>\n",
       "      <td>580.000000</td>\n",
       "      <td>543.099976</td>\n",
       "      <td>539.316589</td>\n",
       "      <td>40.683411</td>\n",
       "    </tr>\n",
       "    <tr>\n",
       "      <th>4</th>\n",
       "      <td>COC=1C(NC=CC1)=O</td>\n",
       "      <td>8</td>\n",
       "      <td>1s</td>\n",
       "      <td>538.909973</td>\n",
       "      <td>543.099976</td>\n",
       "      <td>529.668457</td>\n",
       "      <td>9.241516</td>\n",
       "    </tr>\n",
       "    <tr>\n",
       "      <th>5</th>\n",
       "      <td>[Xe]</td>\n",
       "      <td>0</td>\n",
       "      <td>4d5/2</td>\n",
       "      <td>67.500000</td>\n",
       "      <td>67.500000</td>\n",
       "      <td>73.724922</td>\n",
       "      <td>6.224922</td>\n",
       "    </tr>\n",
       "    <tr>\n",
       "      <th>6</th>\n",
       "      <td>O([GeH3])[GeH3]</td>\n",
       "      <td>0</td>\n",
       "      <td>1s</td>\n",
       "      <td>537.099976</td>\n",
       "      <td>543.099976</td>\n",
       "      <td>543.066345</td>\n",
       "      <td>5.966370</td>\n",
       "    </tr>\n",
       "    <tr>\n",
       "      <th>7</th>\n",
       "      <td>[O+]#C[Fe]12(C#[O+])(C#[O+])S[Fe]1(C#[O+])(C#[...</td>\n",
       "      <td>5</td>\n",
       "      <td>1s</td>\n",
       "      <td>293.160004</td>\n",
       "      <td>284.200012</td>\n",
       "      <td>287.283142</td>\n",
       "      <td>5.876862</td>\n",
       "    </tr>\n",
       "    <tr>\n",
       "      <th>8</th>\n",
       "      <td>O=[Mn](=O)(=O)Cl</td>\n",
       "      <td>4</td>\n",
       "      <td>2p3/2</td>\n",
       "      <td>207.449997</td>\n",
       "      <td>200.000000</td>\n",
       "      <td>201.657059</td>\n",
       "      <td>5.792938</td>\n",
       "    </tr>\n",
       "    <tr>\n",
       "      <th>9</th>\n",
       "      <td>[O+]#C[Fe]12(C#[O+])(C#[O+])S[Fe]1(C#[O+])(C#[...</td>\n",
       "      <td>3</td>\n",
       "      <td>1s</td>\n",
       "      <td>293.160004</td>\n",
       "      <td>284.200012</td>\n",
       "      <td>287.525940</td>\n",
       "      <td>5.634064</td>\n",
       "    </tr>\n",
       "  </tbody>\n",
       "</table>\n",
       "</div>"
      ],
      "text/plain": [
       "                                                 mol atom_idx    orb  \\\n",
       "0  C[Mo]2345(C#[O+])(C#[O+])(C#[O+])<-C1=C->2C->3...        1  3d5/2   \n",
       "1                             CC1(CC(OP(O1)OC)(C)C)C        4     1s   \n",
       "2                             CC1(CC(OP(O1)OC)(C)C)C        6     1s   \n",
       "3                             CC1(CC(OP(O1)OC)(C)C)C        7     1s   \n",
       "4                                   COC=1C(NC=CC1)=O        8     1s   \n",
       "5                                               [Xe]        0  4d5/2   \n",
       "6                                    O([GeH3])[GeH3]        0     1s   \n",
       "7  [O+]#C[Fe]12(C#[O+])(C#[O+])S[Fe]1(C#[O+])(C#[...        5     1s   \n",
       "8                                   O=[Mn](=O)(=O)Cl        4  2p3/2   \n",
       "9  [O+]#C[Fe]12(C#[O+])(C#[O+])S[Fe]1(C#[O+])(C#[...        3     1s   \n",
       "\n",
       "       y_true    y_lookup           y        mae  \n",
       "0  290.799988  227.899994  233.782776  57.017212  \n",
       "1  580.000000  543.099976  535.913635  44.086365  \n",
       "2  580.000000  543.099976  538.724304  41.275696  \n",
       "3  580.000000  543.099976  539.316589  40.683411  \n",
       "4  538.909973  543.099976  529.668457   9.241516  \n",
       "5   67.500000   67.500000   73.724922   6.224922  \n",
       "6  537.099976  543.099976  543.066345   5.966370  \n",
       "7  293.160004  284.200012  287.283142   5.876862  \n",
       "8  207.449997  200.000000  201.657059   5.792938  \n",
       "9  293.160004  284.200012  287.525940   5.634064  "
      ]
     },
     "execution_count": 121,
     "metadata": {},
     "output_type": "execute_result"
    }
   ],
   "source": [
    "test_df"
   ]
  },
  {
   "cell_type": "code",
   "execution_count": null,
   "metadata": {},
   "outputs": [],
   "source": []
  }
 ],
 "metadata": {
  "accelerator": "GPU",
  "colab": {
   "collapsed_sections": [
    "_l0tU8gum9eT",
    "TAwoHyWs452X",
    "V03t1f51tW2w",
    "0fZTuGyVNC6n",
    "kY6J_vL3hgCN",
    "wqcJy1HtPgj6",
    "yO7iwRjvDD16",
    "c-az-clhTLLv",
    "04WVO1Mnukdm"
   ],
   "provenance": []
  },
  "kernelspec": {
   "display_name": "Python 3 (ipykernel)",
   "language": "python",
   "name": "python3"
  },
  "language_info": {
   "codemirror_mode": {
    "name": "ipython",
    "version": 3
   },
   "file_extension": ".py",
   "mimetype": "text/x-python",
   "name": "python",
   "nbconvert_exporter": "python",
   "pygments_lexer": "ipython3",
   "version": "3.9.13"
  },
  "vscode": {
   "interpreter": {
    "hash": "94aa676993820a604ac86f7af94f5432e989a749d5dd43e18f9507de2e8c2897"
   }
  }
 },
 "nbformat": 4,
 "nbformat_minor": 1
}
